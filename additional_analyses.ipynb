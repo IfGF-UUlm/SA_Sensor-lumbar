{
 "cells": [
  {
   "cell_type": "code",
   "execution_count": 1,
   "id": "0dd50d22-23ec-4a39-a491-d0ea72bc92fe",
   "metadata": {},
   "outputs": [],
   "source": [
    "import numpy as np\n",
    "import pandas as pd\n",
    "import scipy.stats as stats\n",
    "from tabpfn import TabPFNClassifier, TabPFNRegressor\n",
    "from sklearn.preprocessing import label_binarize\n",
    "from sklearn.model_selection import cross_val_score, LeaveOneOut, StratifiedKFold\n",
    "from sklearn.utils import resample\n",
    "from sklearn.metrics import accuracy_score, roc_auc_score, r2_score, mean_absolute_error, mean_squared_error, cohen_kappa_score\n",
    "import matplotlib.pyplot as plt\n",
    "import warnings"
   ]
  },
  {
   "cell_type": "code",
   "execution_count": 2,
   "id": "1d9c732d-eb28-42ed-b9f5-36a9f8463cac",
   "metadata": {},
   "outputs": [],
   "source": [
    "warnings.filterwarnings('ignore', category=UserWarning)"
   ]
  },
  {
   "cell_type": "markdown",
   "id": "f5b3ad17-dc4d-4647-bfa8-909d50cd1ba8",
   "metadata": {},
   "source": [
    "# Load Data"
   ]
  },
  {
   "cell_type": "code",
   "execution_count": 3,
   "id": "677e4b1e-3028-4f62-b7a9-88b604e919c5",
   "metadata": {},
   "outputs": [],
   "source": [
    "sensor_data = pd.read_csv('./results.csv', index_col=0)\n",
    "sensor_data = sensor_data[sensor_data['ID'] != 11024].reset_index(drop=True) # Wearing time less then 1 hour\n",
    "sensor_data = sensor_data[sensor_data['ID'] != 12001].reset_index(drop=True) # Incorrect sensor orientation\n",
    "\n",
    "sa_data = pd.read_excel('./SAh_OKIE_DB_20250303.xlsx', sheet_name=0, header=0, engine='openpyxl')\n",
    "sa_data = sa_data.rename(columns={'id': 'ID'})"
   ]
  },
  {
   "cell_type": "code",
   "execution_count": 4,
   "id": "d7e38fd1-b133-415e-b2a0-fd86999616b1",
   "metadata": {},
   "outputs": [],
   "source": [
    "catalog = pd.read_csv('./catalog.csv')\n",
    "lumbar_ID = catalog[catalog.sensor_attachment_su=='lumbar'].ID.values.tolist()\n",
    "sa_data = sa_data[sa_data['ID'].isin(lumbar_ID)]"
   ]
  },
  {
   "cell_type": "markdown",
   "id": "221a5917-eaab-46c1-9719-cb2ccd64419d",
   "metadata": {},
   "source": [
    "## Remove algorithmic data"
   ]
  },
  {
   "cell_type": "code",
   "execution_count": 5,
   "id": "ca88a869-211b-46f9-a3e8-46666eb71b13",
   "metadata": {},
   "outputs": [],
   "source": [
    "sensor_data = sensor_data[sensor_data.columns[:62]]"
   ]
  },
  {
   "cell_type": "markdown",
   "id": "53b72b49-bc36-4316-9408-810bae0131b3",
   "metadata": {},
   "source": [
    "## Preprocess Data"
   ]
  },
  {
   "cell_type": "code",
   "execution_count": 6,
   "id": "f940ef6f-4d83-49e8-b667-73d7677c9894",
   "metadata": {},
   "outputs": [],
   "source": [
    "sensor_data['root_mean_square_vector_magnitude'] = np.sqrt(\n",
    "    sensor_data['root_mean_square_x'] ** 2 + \n",
    "    sensor_data['root_mean_square_y'] ** 2 + \n",
    "    sensor_data['root_mean_square_z'] ** 2\n",
    ")"
   ]
  },
  {
   "cell_type": "code",
   "execution_count": 7,
   "id": "bf83e063-1021-4ca7-871d-1ec024c5823c",
   "metadata": {},
   "outputs": [],
   "source": [
    "sensor_data['detail_power_vector_magnitude'] = np.sqrt(\n",
    "    sensor_data['detail_power_x'] ** 2 + \n",
    "    sensor_data['detail_power_y'] ** 2 + \n",
    "    sensor_data['detail_power_z'] ** 2\n",
    ")"
   ]
  },
  {
   "cell_type": "code",
   "execution_count": 8,
   "id": "38133b0b-b89b-4d57-8ffe-5ac1865eebf0",
   "metadata": {},
   "outputs": [],
   "source": [
    "sensor_data['power_spectral_sum_vector_magnitude'] = np.sqrt(\n",
    "    sensor_data['power_spectral_sum_x'] ** 2 + \n",
    "    sensor_data['power_spectral_sum_y'] ** 2 + \n",
    "    sensor_data['power_spectral_sum_z'] ** 2\n",
    ")"
   ]
  },
  {
   "cell_type": "markdown",
   "id": "39f430b2-ffb1-433f-8795-11f8ab3e2c83",
   "metadata": {},
   "source": [
    "# Analysis"
   ]
  },
  {
   "cell_type": "code",
   "execution_count": 9,
   "id": "c502fc30-6116-42e0-b749-a99b1ff359ac",
   "metadata": {},
   "outputs": [],
   "source": [
    "def bootstrap(y, y_pred, metric, **kwargs):\n",
    "    results = []\n",
    "    for _ in range(1000):\n",
    "        sample_A, sample_B = resample(y, y_pred)\n",
    "        res = metric(sample_A, sample_B, **kwargs)\n",
    "        results.append(res)\n",
    "    ci_lower = np.percentile(results, 2.5)\n",
    "    ci_upper = np.percentile(results, 97.5)\n",
    "    return ci_lower, ci_upper"
   ]
  },
  {
   "cell_type": "markdown",
   "id": "fad5664d-9a67-4b40-9ecc-c7a83487ad3d",
   "metadata": {},
   "source": [
    "## Continuity of Care"
   ]
  },
  {
   "cell_type": "code",
   "execution_count": 10,
   "id": "15470959-6146-48a9-a7b8-d7821e073087",
   "metadata": {},
   "outputs": [],
   "source": [
    "sa_discharge = sa_data.dropna(subset='dis_geriatrician_0').copy()\n",
    "sensor_discharge = sensor_data[sensor_data['ID'].isin(sa_discharge['ID'])].copy()\n",
    "\n",
    "coc_mapping = {\n",
    "    0: 'Back Home',\n",
    "    1: 'Nursing Home',\n",
    "    2: 'Nursing Home',\n",
    "    3: 'Rehabilitation',\n",
    "    4: 'Rehabilitation',\n",
    "    5: 'Acute Geriatric Care Unit',\n",
    "    6: np.nan\n",
    "}\n",
    "\n",
    "sa_discharge.loc[:, 'coc_ground_truth'] = sa_discharge.loc[:, 'dis_geriatrician_0'].map(coc_mapping)\n",
    "coc = pd.merge(sensor_discharge, sa_discharge[['ID', 'coc_ground_truth']], on='ID', how='left')"
   ]
  },
  {
   "cell_type": "code",
   "execution_count": 11,
   "id": "bc605ad6-1bf7-478a-bc05-45c061e7b3fa",
   "metadata": {},
   "outputs": [
    {
     "data": {
      "text/html": [
       "<div>\n",
       "<style scoped>\n",
       "    .dataframe tbody tr th:only-of-type {\n",
       "        vertical-align: middle;\n",
       "    }\n",
       "\n",
       "    .dataframe tbody tr th {\n",
       "        vertical-align: top;\n",
       "    }\n",
       "\n",
       "    .dataframe thead th {\n",
       "        text-align: right;\n",
       "    }\n",
       "</style>\n",
       "<table border=\"1\" class=\"dataframe\">\n",
       "  <thead>\n",
       "    <tr style=\"text-align: right;\">\n",
       "      <th></th>\n",
       "      <th>Group</th>\n",
       "      <th>mean_x_mean</th>\n",
       "      <th>mean_x_std</th>\n",
       "      <th>mean_x_pval</th>\n",
       "      <th>mean_y_mean</th>\n",
       "      <th>mean_y_std</th>\n",
       "      <th>mean_y_pval</th>\n",
       "      <th>mean_z_mean</th>\n",
       "      <th>mean_z_std</th>\n",
       "      <th>mean_z_pval</th>\n",
       "    </tr>\n",
       "  </thead>\n",
       "  <tbody>\n",
       "    <tr>\n",
       "      <th>0</th>\n",
       "      <td>Acute Geriatric Care Unit</td>\n",
       "      <td>0.313707</td>\n",
       "      <td>0.096645</td>\n",
       "      <td>0.444082</td>\n",
       "      <td>-0.066242</td>\n",
       "      <td>0.169336</td>\n",
       "      <td>0.097514</td>\n",
       "      <td>0.864162</td>\n",
       "      <td>0.111776</td>\n",
       "      <td>0.000016</td>\n",
       "    </tr>\n",
       "    <tr>\n",
       "      <th>1</th>\n",
       "      <td>Back Home</td>\n",
       "      <td>0.344219</td>\n",
       "      <td>0.167700</td>\n",
       "      <td>0.543155</td>\n",
       "      <td>0.034011</td>\n",
       "      <td>0.185952</td>\n",
       "      <td>0.087021</td>\n",
       "      <td>0.569479</td>\n",
       "      <td>0.250992</td>\n",
       "      <td>0.000085</td>\n",
       "    </tr>\n",
       "    <tr>\n",
       "      <th>2</th>\n",
       "      <td>Rehabilitation</td>\n",
       "      <td>0.387914</td>\n",
       "      <td>NaN</td>\n",
       "      <td>NaN</td>\n",
       "      <td>-0.041547</td>\n",
       "      <td>NaN</td>\n",
       "      <td>NaN</td>\n",
       "      <td>0.575990</td>\n",
       "      <td>NaN</td>\n",
       "      <td>NaN</td>\n",
       "    </tr>\n",
       "  </tbody>\n",
       "</table>\n",
       "</div>"
      ],
      "text/plain": [
       "                       Group  mean_x_mean  mean_x_std  mean_x_pval  \\\n",
       "0  Acute Geriatric Care Unit     0.313707    0.096645     0.444082   \n",
       "1                  Back Home     0.344219    0.167700     0.543155   \n",
       "2             Rehabilitation     0.387914         NaN          NaN   \n",
       "\n",
       "   mean_y_mean  mean_y_std  mean_y_pval  mean_z_mean  mean_z_std  mean_z_pval  \n",
       "0    -0.066242    0.169336     0.097514     0.864162    0.111776     0.000016  \n",
       "1     0.034011    0.185952     0.087021     0.569479    0.250992     0.000085  \n",
       "2    -0.041547         NaN          NaN     0.575990         NaN          NaN  "
      ]
     },
     "execution_count": 11,
     "metadata": {},
     "output_type": "execute_result"
    }
   ],
   "source": [
    "results = []\n",
    "variables = ['mean_x', 'mean_y', 'mean_z']\n",
    "groups = coc['coc_ground_truth'].unique()\n",
    "\n",
    "for group in groups:\n",
    "    group_data = coc[coc['coc_ground_truth'] == group]\n",
    "    rest_data = coc[coc['coc_ground_truth'] != group]\n",
    "    \n",
    "    row = {'Group': group}\n",
    "    \n",
    "    for var in variables:\n",
    "        mean_val = group_data[var].mean()\n",
    "        std_val = group_data[var].std()\n",
    "        row[f'{var}_mean'] = mean_val\n",
    "        row[f'{var}_std'] = std_val\n",
    "        with warnings.catch_warnings():\n",
    "            warnings.simplefilter(\"ignore\", category=RuntimeWarning) # Rehabiliaiton has only 1 sample\n",
    "            t_stat, p_val = stats.ttest_ind(group_data[var], rest_data[var], equal_var=False, nan_policy='omit')\n",
    "        row[f'{var}_pval'] = p_val\n",
    "\n",
    "    results.append(row)\n",
    "\n",
    "pd.DataFrame(results)"
   ]
  },
  {
   "cell_type": "markdown",
   "id": "13098829-c6c5-4e56-8cb9-98acb4551b69",
   "metadata": {},
   "source": [
    "### Kruskal-Wallis"
   ]
  },
  {
   "cell_type": "code",
   "execution_count": 12,
   "id": "ddf75e5c-6e94-4f9a-8ec6-4abf1793da1b",
   "metadata": {},
   "outputs": [],
   "source": [
    "def get_kruskal(df, target):\n",
    "    results = pd.DataFrame()\n",
    "    \n",
    "    for col in df.columns[1:-1]:\n",
    "        df_clean = df.dropna(subset=[col])\n",
    "        unique_classes = df_clean[target].unique()\n",
    "        groups = [df_clean[df_clean[target] == c][col] for c in unique_classes]\n",
    "        groups = [group if not group.empty else pd.Series(np.nan, dtype=float) for group in groups]\n",
    "        h_stat, p_val = stats.kruskal(*groups)\n",
    "        for group in unique_classes:\n",
    "            results.loc[col, [f'{group}']] = df_clean.loc[df[target]==group, col].mean()\n",
    "        results.loc[col, 'p_value'] = p_val\n",
    "\n",
    "    return results"
   ]
  },
  {
   "cell_type": "code",
   "execution_count": 13,
   "id": "3e517c18-d1d2-4539-bd8d-871dc1a8cbd1",
   "metadata": {},
   "outputs": [
    {
     "data": {
      "text/plain": [
       "mean_z                                 0.0003\n",
       "standard_deviation_x                   0.0389\n",
       "standard_deviation_y                   0.0055\n",
       "standard_deviation_z                   0.0000\n",
       "skewness_z                             0.0006\n",
       "kurtosis_z                             0.0003\n",
       "interquartile_range_z                  0.0013\n",
       "mean_cross_rate_z                      0.0022\n",
       "autocorrelation_z                      0.0235\n",
       "signal_entropy_y                       0.0089\n",
       "root_mean_square_x                     0.0389\n",
       "root_mean_square_y                     0.0055\n",
       "root_mean_square_z                     0.0000\n",
       "detail_power_y                         0.0040\n",
       "power_spectral_sum_x                   0.0011\n",
       "power_spectral_sum_y                   0.0154\n",
       "power_spectral_sum_z                   0.0003\n",
       "power_range_sum_z                      0.0092\n",
       "spectral_entropy_z                     0.0001\n",
       "sparc_z                                0.0002\n",
       "root_mean_square_vector_magnitude      0.0001\n",
       "power_spectral_sum_vector_magnitude    0.0013\n",
       "Name: p_value, dtype: float64"
      ]
     },
     "execution_count": 13,
     "metadata": {},
     "output_type": "execute_result"
    }
   ],
   "source": [
    "coc_table = get_kruskal(coc, 'coc_ground_truth')\n",
    "features = coc_table.loc[coc_table['p_value']<0.05, 'p_value']\n",
    "features.round(4)"
   ]
  },
  {
   "cell_type": "markdown",
   "id": "68be16b1-1890-40d1-8628-69a906ccf582",
   "metadata": {},
   "source": [
    "### Machine Learning"
   ]
  },
  {
   "cell_type": "code",
   "execution_count": 14,
   "id": "7d27a8fc-2572-4c45-98a5-7bb91ea9d62a",
   "metadata": {},
   "outputs": [],
   "source": [
    "model = TabPFNClassifier(random_state=42)\n",
    "X = coc[features.keys()].values\n",
    "y = coc['coc_ground_truth'].values\n",
    "loo = LeaveOneOut()\n",
    "y_pred = []\n",
    "y_proba = []\n",
    "\n",
    "for train_index, test_index in loo.split(X):\n",
    "    X_train, X_test = X[train_index], X[test_index]\n",
    "    y_train, y_test = y[train_index], y[test_index]\n",
    "    model.fit(X_train, y_train)\n",
    "    y_pred.append(model.predict(X_test))\n",
    "    y_proba.append(list(model.predict_proba(X_test)[0]))\n",
    "\n",
    "coc_y_pred = np.array(y_pred).ravel()\n",
    "y_proba = [sublist + [0] * (3 - len(sublist)) for sublist in y_proba] # The third class contains only one sample, which may be missing from X_train\n",
    "y_true_bin = label_binarize(y, classes=np.unique(y))"
   ]
  },
  {
   "cell_type": "code",
   "execution_count": 15,
   "id": "98528324-c3b3-4a79-b38d-4936f5583a7f",
   "metadata": {},
   "outputs": [
    {
     "name": "stdout",
     "output_type": "stream",
     "text": [
      "Leave One Out Accuracy:: 0.79\n",
      "95% Confidence Interval: (0.67, 0.92)\n"
     ]
    }
   ],
   "source": [
    "accuracy = accuracy_score(y, coc_y_pred)\n",
    "ci_lower, ci_upper = bootstrap(y, coc_y_pred, accuracy_score)\n",
    "print(f\"Leave One Out Accuracy:: {accuracy:.2f}\")\n",
    "print(f\"95% Confidence Interval: ({ci_lower:.2f}, {ci_upper:.2f})\")"
   ]
  },
  {
   "cell_type": "code",
   "execution_count": 16,
   "id": "4853a95f-b2f1-4b8f-9974-dcd35a1350f4",
   "metadata": {},
   "outputs": [
    {
     "name": "stdout",
     "output_type": "stream",
     "text": [
      "Leave One Out ROC AUC (micro):: 0.79\n",
      "95% Confidence Interval: (0.78, 0.97)\n"
     ]
    }
   ],
   "source": [
    "roc_auc = roc_auc_score(y_true_bin, y_proba, average='micro')\n",
    "ci_lower, ci_upper = bootstrap(y_true_bin, y_proba, roc_auc_score, average='micro')\n",
    "print(f\"Leave One Out ROC AUC (micro):: {accuracy:.2f}\")\n",
    "print(f\"95% Confidence Interval: ({ci_lower:.2f}, {ci_upper:.2f})\")"
   ]
  },
  {
   "cell_type": "markdown",
   "id": "cc9b9250-d21e-4d53-9de0-e20eb53d92a1",
   "metadata": {},
   "source": [
    "## CHARMI"
   ]
  },
  {
   "cell_type": "code",
   "execution_count": 17,
   "id": "a90f1324-0e09-4f0b-8662-345dd095a760",
   "metadata": {},
   "outputs": [],
   "source": [
    "charmi_assessment = 'charmi_postop_3'\n",
    "sa_charmi = sa_data.dropna(subset=charmi_assessment).copy()\n",
    "sensor_charmi = sensor_data[sensor_data['ID'].isin(sa_charmi['ID'])].copy()\n",
    "charmi = pd.merge(sensor_charmi, sa_charmi[['ID', charmi_assessment]], on='ID', how='left')\n",
    "charmi.loc[charmi[charmi_assessment] == 11, charmi_assessment] = np.nan\n",
    "charmi = charmi.dropna(subset=[charmi_assessment])"
   ]
  },
  {
   "cell_type": "markdown",
   "id": "fbe09c5d-417c-442c-b056-9b8377f50f38",
   "metadata": {},
   "source": [
    "### Spearman"
   ]
  },
  {
   "cell_type": "code",
   "execution_count": 18,
   "id": "cb28671f-b392-4d75-93fa-10e25e553991",
   "metadata": {},
   "outputs": [],
   "source": [
    "def get_spearman_correlation(df, target):\n",
    "    results = pd.DataFrame()\n",
    "    \n",
    "    for col in df.columns[1:-1]:\n",
    "        df_clean = df.dropna(subset=[col])  # Drop rows with NaN in the current column\n",
    "        corr, p_val = stats.spearmanr(df_clean[col], df_clean[target])\n",
    "        results.loc[col, f'{target}_r'] = corr\n",
    "        results.loc[col, 'p_value'] = p_val\n",
    "\n",
    "    return results"
   ]
  },
  {
   "cell_type": "code",
   "execution_count": 19,
   "id": "61f6688d-df53-4669-813d-3e6da62d21ef",
   "metadata": {},
   "outputs": [
    {
     "data": {
      "text/plain": [
       "mean_x                                 0.0359\n",
       "mean_z                                 0.0000\n",
       "standard_deviation_x                   0.0000\n",
       "standard_deviation_y                   0.0001\n",
       "standard_deviation_z                   0.0000\n",
       "skewness_z                             0.0000\n",
       "kurtosis_x                             0.0017\n",
       "kurtosis_y                             0.0097\n",
       "kurtosis_z                             0.0000\n",
       "interquartile_range_x                  0.0003\n",
       "interquartile_range_y                  0.0012\n",
       "interquartile_range_z                  0.0000\n",
       "range_count_percentage_x               0.0062\n",
       "range_count_percentage_z               0.0298\n",
       "ratio_beyond_r_sigma_z                 0.0115\n",
       "mean_cross_rate_x                      0.0026\n",
       "mean_cross_rate_z                      0.0011\n",
       "autocorrelation_z                      0.0234\n",
       "signal_entropy_y                       0.0120\n",
       "jerk_metric_x                          0.0192\n",
       "jerk_metric_y                          0.0072\n",
       "root_mean_square_x                     0.0000\n",
       "root_mean_square_y                     0.0001\n",
       "root_mean_square_z                     0.0000\n",
       "detail_power_y                         0.0000\n",
       "dominant_frequency_z                   0.0433\n",
       "power_spectral_sum_x                   0.0004\n",
       "power_spectral_sum_y                   0.0034\n",
       "power_spectral_sum_z                   0.0001\n",
       "power_range_sum_y                      0.0254\n",
       "spectral_entropy_z                     0.0000\n",
       "sparc_z                                0.0000\n",
       "root_mean_square_vector_magnitude      0.0000\n",
       "power_spectral_sum_vector_magnitude    0.0004\n",
       "Name: p_value, dtype: float64"
      ]
     },
     "execution_count": 19,
     "metadata": {},
     "output_type": "execute_result"
    }
   ],
   "source": [
    "charmi_table = get_spearman_correlation(charmi, charmi_assessment)\n",
    "features = charmi_table.loc[charmi_table['p_value']<0.05, 'p_value']\n",
    "features.round(4)"
   ]
  },
  {
   "cell_type": "markdown",
   "id": "8e67aa24-57a0-4552-a8b2-2ba7f6a64462",
   "metadata": {},
   "source": [
    "### Machine Learning"
   ]
  },
  {
   "cell_type": "code",
   "execution_count": 20,
   "id": "9e128171-76f5-43f3-b6c4-a628b0b0e4f6",
   "metadata": {},
   "outputs": [],
   "source": [
    "model = TabPFNRegressor(random_state=42)\n",
    "X = charmi[features.keys()].values\n",
    "y = charmi[charmi_assessment].values\n",
    "loo = LeaveOneOut()\n",
    "y_pred = []\n",
    "\n",
    "for train_index, test_index in loo.split(X):\n",
    "    X_train, X_test = X[train_index], X[test_index]\n",
    "    y_train, y_test = y[train_index], y[test_index]\n",
    "    model.fit(X_train, y_train)\n",
    "    y_pred.append(model.predict(X_test))\n",
    "\n",
    "charmi_y_pred = np.array(y_pred).ravel()"
   ]
  },
  {
   "cell_type": "code",
   "execution_count": 21,
   "id": "27c14478-11ef-4217-8b8f-082fa219fd3f",
   "metadata": {},
   "outputs": [
    {
     "name": "stdout",
     "output_type": "stream",
     "text": [
      "Leave One Out R²: 0.52\n",
      "95% Confidence Interval: (0.10, 0.76)\n"
     ]
    }
   ],
   "source": [
    "r2 = r2_score(y, charmi_y_pred)\n",
    "ci_lower, ci_upper = bootstrap(y, charmi_y_pred, r2_score)\n",
    "print(f\"Leave One Out R²: {r2:.2f}\")\n",
    "print(f\"95% Confidence Interval: ({ci_lower:.2f}, {ci_upper:.2f})\")"
   ]
  },
  {
   "cell_type": "code",
   "execution_count": 22,
   "id": "cf26998c-e7b1-4e74-a1fe-992e3a5a6074",
   "metadata": {},
   "outputs": [
    {
     "name": "stdout",
     "output_type": "stream",
     "text": [
      "Mean Error: 1.49\n",
      "95% Confidence Interval: (1.12, 1.94)\n"
     ]
    }
   ],
   "source": [
    "mean_error = mean_absolute_error(y, charmi_y_pred)\n",
    "ci_lower, ci_upper = bootstrap(y, charmi_y_pred, mean_absolute_error)\n",
    "print(f\"Mean Error: {mean_error:.2f}\")\n",
    "print(f\"95% Confidence Interval: ({ci_lower:.2f}, {ci_upper:.2f})\")"
   ]
  },
  {
   "cell_type": "code",
   "execution_count": 23,
   "id": "ecd73e36-1df8-4477-80d6-367512bc7f9f",
   "metadata": {},
   "outputs": [
    {
     "name": "stdout",
     "output_type": "stream",
     "text": [
      "Weighted Kappa (κw): 0.71\n",
      "95% Confidence Interval: (0.52, 0.85)\n"
     ]
    }
   ],
   "source": [
    "weighted_kappa = cohen_kappa_score(y, charmi_y_pred.astype(int), weights='quadratic')\n",
    "ci_lower, ci_upper = bootstrap(y, charmi_y_pred.astype(int), cohen_kappa_score, weights='quadratic')\n",
    "print(f\"Weighted Kappa (κw): {weighted_kappa:.2f}\")\n",
    "print(f\"95% Confidence Interval: ({ci_lower:.2f}, {ci_upper:.2f})\")"
   ]
  },
  {
   "cell_type": "markdown",
   "id": "1c2ab0fd-8bc2-464b-a156-5b3551cb8c03",
   "metadata": {},
   "source": [
    "## Barthel Index"
   ]
  },
  {
   "cell_type": "code",
   "execution_count": 24,
   "id": "842a17f7-f4f8-44d0-8c21-8eee41620160",
   "metadata": {},
   "outputs": [],
   "source": [
    "bi_assessment = 'bi_postop_3'\n",
    "sa_bi = sa_data.dropna(subset=bi_assessment).copy()\n",
    "sensor_bi = sensor_data[sensor_data['ID'].isin(sa_bi['ID'])].copy()\n",
    "bi = pd.merge(sensor_bi, sa_bi[['ID', bi_assessment]], on='ID', how='left')\n",
    "bi = bi.dropna(subset=[bi_assessment])"
   ]
  },
  {
   "cell_type": "markdown",
   "id": "3270fe29-1d43-4ade-beae-547e05e15eb7",
   "metadata": {},
   "source": [
    "### Spearman"
   ]
  },
  {
   "cell_type": "code",
   "execution_count": 25,
   "id": "bf28e9b2-1ca4-4068-95eb-97f099211bbb",
   "metadata": {},
   "outputs": [
    {
     "data": {
      "text/plain": [
       "mean_z                                 0.0000\n",
       "standard_deviation_x                   0.0004\n",
       "standard_deviation_y                   0.0001\n",
       "standard_deviation_z                   0.0000\n",
       "skewness_z                             0.0000\n",
       "kurtosis_x                             0.0128\n",
       "kurtosis_y                             0.0306\n",
       "kurtosis_z                             0.0000\n",
       "interquartile_range_x                  0.0101\n",
       "interquartile_range_y                  0.0071\n",
       "interquartile_range_z                  0.0001\n",
       "range_count_percentage_x               0.0135\n",
       "mean_cross_rate_x                      0.0040\n",
       "mean_cross_rate_z                      0.0001\n",
       "autocorrelation_z                      0.0039\n",
       "signal_entropy_x                       0.0491\n",
       "signal_entropy_y                       0.0015\n",
       "jerk_metric_x                          0.0493\n",
       "jerk_metric_y                          0.0083\n",
       "root_mean_square_x                     0.0004\n",
       "root_mean_square_y                     0.0001\n",
       "root_mean_square_z                     0.0000\n",
       "detail_power_y                         0.0000\n",
       "power_spectral_sum_x                   0.0000\n",
       "power_spectral_sum_y                   0.0025\n",
       "power_spectral_sum_z                   0.0001\n",
       "spectral_entropy_z                     0.0000\n",
       "sparc_x                                0.0473\n",
       "sparc_z                                0.0000\n",
       "root_mean_square_vector_magnitude      0.0000\n",
       "power_spectral_sum_vector_magnitude    0.0001\n",
       "Name: p_value, dtype: float64"
      ]
     },
     "execution_count": 25,
     "metadata": {},
     "output_type": "execute_result"
    }
   ],
   "source": [
    "bi_table = get_spearman_correlation(bi, bi_assessment)\n",
    "features = bi_table.loc[bi_table['p_value']<0.05, 'p_value']\n",
    "features.round(4)"
   ]
  },
  {
   "cell_type": "markdown",
   "id": "6ad5e79b-be2c-4b50-b2fa-a8bbdf11527f",
   "metadata": {},
   "source": [
    "### Machine Learning"
   ]
  },
  {
   "cell_type": "code",
   "execution_count": 26,
   "id": "129b0f53-8d20-4de7-90a2-634773ddf320",
   "metadata": {},
   "outputs": [],
   "source": [
    "model = TabPFNRegressor(random_state=42)\n",
    "X = bi[features.keys()].values\n",
    "y = bi[bi_assessment].values\n",
    "loo = LeaveOneOut()\n",
    "y_pred = []\n",
    "\n",
    "for train_index, test_index in loo.split(X):\n",
    "    X_train, X_test = X[train_index], X[test_index]\n",
    "    y_train, y_test = y[train_index], y[test_index]\n",
    "    model.fit(X_train, y_train)\n",
    "    y_pred.append(model.predict(X_test))\n",
    "\n",
    "bi_y_pred = np.array(y_pred).ravel()"
   ]
  },
  {
   "cell_type": "code",
   "execution_count": 27,
   "id": "d3826280-7435-4216-92a4-6d144f29b58a",
   "metadata": {},
   "outputs": [
    {
     "name": "stdout",
     "output_type": "stream",
     "text": [
      "Leave One Out R²: 0.39\n",
      "95% Confidence Interval: (0.01, 0.64)\n"
     ]
    }
   ],
   "source": [
    "r2 = r2_score(y, bi_y_pred)\n",
    "ci_lower, ci_upper = bootstrap(y, bi_y_pred, r2_score)\n",
    "print(f\"Leave One Out R²: {r2:.2f}\")\n",
    "print(f\"95% Confidence Interval: ({ci_lower:.2f}, {ci_upper:.2f})\")"
   ]
  },
  {
   "cell_type": "code",
   "execution_count": 28,
   "id": "e2986fa9-ce87-49ae-b66f-8ea488c1e4ae",
   "metadata": {},
   "outputs": [
    {
     "name": "stdout",
     "output_type": "stream",
     "text": [
      "Mean Error: 14.58\n",
      "95% Confidence Interval: (11.17, 18.36)\n"
     ]
    }
   ],
   "source": [
    "mean_error = mean_absolute_error(y, bi_y_pred)\n",
    "ci_lower, ci_upper = bootstrap(y, bi_y_pred, mean_absolute_error)\n",
    "print(f\"Mean Error: {mean_error:.2f}\")\n",
    "print(f\"95% Confidence Interval: ({ci_lower:.2f}, {ci_upper:.2f})\")"
   ]
  },
  {
   "cell_type": "code",
   "execution_count": 29,
   "id": "9d8e9fa9-94ea-416b-95c2-0bb699b0112a",
   "metadata": {},
   "outputs": [
    {
     "name": "stdout",
     "output_type": "stream",
     "text": [
      "Weighted Kappa (κw): 0.57\n",
      "95% Confidence Interval: (0.32, 0.75)\n"
     ]
    }
   ],
   "source": [
    "weighted_kappa = cohen_kappa_score(y, bi_y_pred.astype(int), weights='quadratic')\n",
    "ci_lower, ci_upper = bootstrap(y, bi_y_pred.astype(int), cohen_kappa_score, weights='quadratic')\n",
    "print(f\"Weighted Kappa (κw): {weighted_kappa:.2f}\")\n",
    "print(f\"95% Confidence Interval: ({ci_lower:.2f}, {ci_upper:.2f})\")"
   ]
  },
  {
   "cell_type": "markdown",
   "id": "f9efd895-ebca-4e95-b1f9-32f9e53d024e",
   "metadata": {},
   "source": [
    "## Figure"
   ]
  },
  {
   "cell_type": "code",
   "execution_count": 30,
   "id": "70b26665-2d83-45f3-973f-b12bfa8ed31e",
   "metadata": {},
   "outputs": [
    {
     "name": "stdout",
     "output_type": "stream",
     "text": [
      "4.2791730958389154e-07\n",
      "2.7366746633387974e-05\n"
     ]
    },
    {
     "data": {
      "image/png": "[encoded data removed]",
      "text/plain": [
       "<Figure size 1000x500 with 2 Axes>"
      ]
     },
     "metadata": {},
     "output_type": "display_data"
    }
   ],
   "source": [
    "plt.style.use('ggplot')\n",
    "fig, axes = plt.subplots(1, 2, figsize=(10, 5), sharey=False)\n",
    "data = [\n",
    "    (charmi_y_pred, charmi[charmi_assessment].values, \"CHARMI\"),\n",
    "    (bi_y_pred, bi[bi_assessment].values, \"Barthel Index\")\n",
    "]\n",
    "\n",
    "for i, (x, y, title) in enumerate(data):\n",
    "    ax = axes[i]\n",
    "    ax.scatter(x, y, color='#009AD4', s=40, marker='o', label='Data')\n",
    "    slope, intercept, r_value, p_value, _ = stats.linregress(x, y)\n",
    "    print(p_value)\n",
    "    line = slope * x + intercept\n",
    "    ax.plot([min(x), max(x)], [min(line), max(line)], color='black', linestyle='--', label=f'Regression \\nr = {r_value:.2f}')\n",
    "    ax.set_xlabel('IMU + DL prediction', fontsize=10)\n",
    "    ax.set_title(title, fontsize=12)\n",
    "    ax.legend(loc='upper left')\n",
    "\n",
    "axes[0].set_ylabel('Assessment Score', fontsize=10)\n",
    "plt.tight_layout()\n",
    "\n",
    "# plt.savefig('./IMU+DL_regression.png', dpi=400, bbox_inches='tight')\n",
    "plt.show();"
   ]
  },
  {
   "cell_type": "markdown",
   "id": "a58d02ab-b2a7-4a3b-b641-9bc9ea39fae4",
   "metadata": {},
   "source": [
    "## Data Export"
   ]
  },
  {
   "cell_type": "code",
   "execution_count": 31,
   "id": "05200c0b-afe9-4bb1-b896-c32944a9d47d",
   "metadata": {},
   "outputs": [],
   "source": [
    "results = pd.concat([coc_table, charmi_table, bi_table], axis=1)\n",
    "# results.round(4).to_csv('./results_IMU.csv')"
   ]
  }
 ],
 "metadata": {
  "kernelspec": {
   "display_name": "Python 3 (ipykernel)",
   "language": "python",
   "name": "python3"
  },
  "language_info": {
   "codemirror_mode": {
    "name": "ipython",
    "version": 3
   },
   "file_extension": ".py",
   "mimetype": "text/x-python",
   "name": "python",
   "nbconvert_exporter": "python",
   "pygments_lexer": "ipython3",
   "version": "3.12.2"
  }
 },
 "nbformat": 4,
 "nbformat_minor": 5
}
