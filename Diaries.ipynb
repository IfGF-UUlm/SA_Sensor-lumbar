{
 "cells": [
  {
   "cell_type": "code",
   "execution_count": 1,
   "id": "984469c1-18fb-4a1f-891b-6d4ef1a0f34d",
   "metadata": {},
   "outputs": [],
   "source": [
    "import numpy as np\n",
    "import pandas as pd\n",
    "from scipy.stats import linregress, spearmanr\n",
    "import matplotlib.pyplot as plt\n",
    "import warnings"
   ]
  },
  {
   "cell_type": "markdown",
   "id": "69b507f9-d5ae-4e7f-85a8-ca3f38a944fd",
   "metadata": {},
   "source": [
    "# Load Data"
   ]
  },
  {
   "cell_type": "code",
   "execution_count": 2,
   "id": "6ca3297d-6508-4877-a2c9-06b1e997f078",
   "metadata": {},
   "outputs": [],
   "source": [
    "catalog = pd.read_csv('./catalog.csv')\n",
    "catalog = catalog[catalog['ID'] != 11024].reset_index(drop=True) # Wearing time less then 1 hour\n",
    "catalog = catalog[catalog['ID'] != 12001].reset_index(drop=True) # Incorrect sensor orientation\n",
    "\n",
    "with warnings.catch_warnings(): # Excel Header cannot be parsed\n",
    "    warnings.simplefilter(\"ignore\")\n",
    "    sa_data = pd.read_excel('./SAh_OKIE_DB_20250303.xlsx', sheet_name=0, header=0, engine='openpyxl')\n",
    "\n",
    "sa_data = sa_data.rename(columns={'id': 'ID'})"
   ]
  },
  {
   "cell_type": "markdown",
   "id": "9e9c0fa8-4b82-4fac-92c6-04826512c7cc",
   "metadata": {},
   "source": [
    "# Analysis"
   ]
  },
  {
   "cell_type": "code",
   "execution_count": 3,
   "id": "62af7be0-83d4-4590-99fa-418de1ffbbaf",
   "metadata": {},
   "outputs": [],
   "source": [
    "def is_overlapping(start1, end1, start2, end2):\n",
    "    return not (end1 < start2 or end2 < start1)"
   ]
  },
  {
   "cell_type": "code",
   "execution_count": 4,
   "id": "74548e2d-9875-40d2-a456-2bfea029818b",
   "metadata": {},
   "outputs": [],
   "source": [
    "results_df = pd.DataFrame()\n",
    "\n",
    "for index, subject in catalog.iterrows():   \n",
    "    \n",
    "    ID = subject['ID']\n",
    "    sensor = subject['sensor_attachment_su']\n",
    "    diary = subject['diary']\n",
    "    \n",
    "    if (sensor == 'lumbar') and (diary == True):\n",
    "        # Load Data\n",
    "        gait_sequences = pd.read_csv(f'./03_Ergebnisse/{ID}/gait_sequences.csv')\n",
    "        subject_diary = pd.read_csv(f'./03_Ergebnisse/{ID}/BTB_{ID}.csv')\n",
    "\n",
    "        # Initialize counters\n",
    "        true_positive, false_positive, false_negative = 0, 0, 0\n",
    "\n",
    "        # Loop over gait sequences and find true/false positives\n",
    "        for _, row_a in gait_sequences.iterrows():\n",
    "            overlap_found = any(is_overlapping(row_a['start'], row_a['end'], row_b['start'], row_b['end']) for _, row_b in subject_diary.iterrows())\n",
    "            if overlap_found:\n",
    "                true_positive += 1\n",
    "            else:\n",
    "                false_positive += 1\n",
    "\n",
    "        # Loop over diary and find false negatives\n",
    "        for _, row_b in subject_diary.iterrows():\n",
    "            overlap_found = any(is_overlapping(row_b['start'], row_b['end'], row_a['start'], row_a['end']) for _, row_a in gait_sequences.iterrows())\n",
    "            if not overlap_found:\n",
    "                false_negative += 1\n",
    "\n",
    "        # Expand results_df\n",
    "        sample_results = pd.DataFrame(\n",
    "            data=np.array([[ID, true_positive, false_positive, false_negative]]),\n",
    "            columns=['ID', 'True Positive', 'False Positive', 'False Negative']\n",
    "        )\n",
    "        results_df = pd.concat([results_df, sample_results], axis=0, ignore_index=True)\n",
    "        "
   ]
  },
  {
   "cell_type": "code",
   "execution_count": 5,
   "id": "6ccc78bb-9889-41c2-8634-43bcb7f7abad",
   "metadata": {},
   "outputs": [],
   "source": [
    "sum_row = results_df.sum(axis=0)\n",
    "results_df.loc[len(results_df.index)] = sum_row\n",
    "results_df['ID'] = results_df['ID'].astype('object')\n",
    "results_df.loc[len(results_df)-1, 'ID'] = 'SUM'"
   ]
  },
  {
   "cell_type": "markdown",
   "id": "16c6c8cd-d48e-4ffb-8bec-bba227534740",
   "metadata": {},
   "source": [
    "# Performance"
   ]
  },
  {
   "cell_type": "code",
   "execution_count": 6,
   "id": "0c825830-6fb5-49fd-a569-340a07d2c103",
   "metadata": {},
   "outputs": [],
   "source": [
    "def precision(row): # Positive Predictive Value (PPV)\n",
    "    if row['True Positive'] == 0 and row['False Positive'] == 0: # If Division by Zero\n",
    "        return 1\n",
    "    return row['True Positive'] / (row['True Positive'] + row['False Positive'])"
   ]
  },
  {
   "cell_type": "code",
   "execution_count": 7,
   "id": "abb254c7-523c-428f-8f5c-931d22b03d7d",
   "metadata": {},
   "outputs": [],
   "source": [
    "def recall(row): # Sensitivity\n",
    "    if row['True Positive'] == 0 and row['False Negative'] == 0: # If Division by Zero\n",
    "        return 1\n",
    "    return row['True Positive'] / (row['True Positive'] + row['False Negative'])"
   ]
  },
  {
   "cell_type": "code",
   "execution_count": 8,
   "id": "d18b0bb4-09ff-4767-9a08-045b40de1b54",
   "metadata": {},
   "outputs": [],
   "source": [
    "def f1_score(row):\n",
    "    p = precision(row)\n",
    "    r = recall(row)\n",
    "    if p + r == 0:\n",
    "        return 0  # Special case for division by zero\n",
    "    return 2 * p * r / (p + r)"
   ]
  },
  {
   "cell_type": "code",
   "execution_count": 9,
   "id": "d2ff94cc-b775-4799-bd88-5818265acd29",
   "metadata": {},
   "outputs": [],
   "source": [
    "results_df['Precision / PPV'] = results_df.apply(precision, axis=1)\n",
    "results_df['Recall / Sensitivity'] = results_df.apply(recall, axis=1)\n",
    "results_df['F1 Score'] = results_df.apply(f1_score, axis=1)\n",
    "results_df = results_df.round(2)"
   ]
  },
  {
   "cell_type": "code",
   "execution_count": 10,
   "id": "a8d22874-5c90-468b-9e1e-c3dede227bac",
   "metadata": {},
   "outputs": [
    {
     "data": {
      "text/html": [
       "<div>\n",
       "<style scoped>\n",
       "    .dataframe tbody tr th:only-of-type {\n",
       "        vertical-align: middle;\n",
       "    }\n",
       "\n",
       "    .dataframe tbody tr th {\n",
       "        vertical-align: top;\n",
       "    }\n",
       "\n",
       "    .dataframe thead th {\n",
       "        text-align: right;\n",
       "    }\n",
       "</style>\n",
       "<table border=\"1\" class=\"dataframe\">\n",
       "  <thead>\n",
       "    <tr style=\"text-align: right;\">\n",
       "      <th></th>\n",
       "      <th>True Positive</th>\n",
       "      <th>False Positive</th>\n",
       "      <th>False Negative</th>\n",
       "      <th>Precision / PPV</th>\n",
       "      <th>Recall / Sensitivity</th>\n",
       "      <th>F1 Score</th>\n",
       "    </tr>\n",
       "    <tr>\n",
       "      <th>ID</th>\n",
       "      <th></th>\n",
       "      <th></th>\n",
       "      <th></th>\n",
       "      <th></th>\n",
       "      <th></th>\n",
       "      <th></th>\n",
       "    </tr>\n",
       "  </thead>\n",
       "  <tbody>\n",
       "    <tr>\n",
       "      <th>11005</th>\n",
       "      <td>0</td>\n",
       "      <td>2</td>\n",
       "      <td>0</td>\n",
       "      <td>0.00</td>\n",
       "      <td>1.00</td>\n",
       "      <td>0.00</td>\n",
       "    </tr>\n",
       "    <tr>\n",
       "      <th>11014</th>\n",
       "      <td>0</td>\n",
       "      <td>1</td>\n",
       "      <td>3</td>\n",
       "      <td>0.00</td>\n",
       "      <td>0.00</td>\n",
       "      <td>0.00</td>\n",
       "    </tr>\n",
       "    <tr>\n",
       "      <th>11041</th>\n",
       "      <td>257</td>\n",
       "      <td>303</td>\n",
       "      <td>2</td>\n",
       "      <td>0.46</td>\n",
       "      <td>0.99</td>\n",
       "      <td>0.63</td>\n",
       "    </tr>\n",
       "    <tr>\n",
       "      <th>11047</th>\n",
       "      <td>2</td>\n",
       "      <td>6</td>\n",
       "      <td>18</td>\n",
       "      <td>0.25</td>\n",
       "      <td>0.10</td>\n",
       "      <td>0.14</td>\n",
       "    </tr>\n",
       "    <tr>\n",
       "      <th>11062</th>\n",
       "      <td>1</td>\n",
       "      <td>5</td>\n",
       "      <td>25</td>\n",
       "      <td>0.17</td>\n",
       "      <td>0.04</td>\n",
       "      <td>0.06</td>\n",
       "    </tr>\n",
       "    <tr>\n",
       "      <th>11065</th>\n",
       "      <td>0</td>\n",
       "      <td>0</td>\n",
       "      <td>2</td>\n",
       "      <td>1.00</td>\n",
       "      <td>0.00</td>\n",
       "      <td>0.00</td>\n",
       "    </tr>\n",
       "    <tr>\n",
       "      <th>11074</th>\n",
       "      <td>2</td>\n",
       "      <td>8</td>\n",
       "      <td>5</td>\n",
       "      <td>0.20</td>\n",
       "      <td>0.29</td>\n",
       "      <td>0.24</td>\n",
       "    </tr>\n",
       "    <tr>\n",
       "      <th>11083</th>\n",
       "      <td>3</td>\n",
       "      <td>24</td>\n",
       "      <td>17</td>\n",
       "      <td>0.11</td>\n",
       "      <td>0.15</td>\n",
       "      <td>0.13</td>\n",
       "    </tr>\n",
       "    <tr>\n",
       "      <th>11085</th>\n",
       "      <td>0</td>\n",
       "      <td>28</td>\n",
       "      <td>4</td>\n",
       "      <td>0.00</td>\n",
       "      <td>0.00</td>\n",
       "      <td>0.00</td>\n",
       "    </tr>\n",
       "    <tr>\n",
       "      <th>11103</th>\n",
       "      <td>19</td>\n",
       "      <td>45</td>\n",
       "      <td>11</td>\n",
       "      <td>0.30</td>\n",
       "      <td>0.63</td>\n",
       "      <td>0.40</td>\n",
       "    </tr>\n",
       "    <tr>\n",
       "      <th>11109</th>\n",
       "      <td>0</td>\n",
       "      <td>6</td>\n",
       "      <td>3</td>\n",
       "      <td>0.00</td>\n",
       "      <td>0.00</td>\n",
       "      <td>0.00</td>\n",
       "    </tr>\n",
       "    <tr>\n",
       "      <th>12006</th>\n",
       "      <td>168</td>\n",
       "      <td>115</td>\n",
       "      <td>3</td>\n",
       "      <td>0.59</td>\n",
       "      <td>0.98</td>\n",
       "      <td>0.74</td>\n",
       "    </tr>\n",
       "    <tr>\n",
       "      <th>12014</th>\n",
       "      <td>3</td>\n",
       "      <td>24</td>\n",
       "      <td>12</td>\n",
       "      <td>0.11</td>\n",
       "      <td>0.20</td>\n",
       "      <td>0.14</td>\n",
       "    </tr>\n",
       "    <tr>\n",
       "      <th>13004</th>\n",
       "      <td>46</td>\n",
       "      <td>37</td>\n",
       "      <td>9</td>\n",
       "      <td>0.55</td>\n",
       "      <td>0.84</td>\n",
       "      <td>0.67</td>\n",
       "    </tr>\n",
       "    <tr>\n",
       "      <th>13008</th>\n",
       "      <td>64</td>\n",
       "      <td>19</td>\n",
       "      <td>11</td>\n",
       "      <td>0.77</td>\n",
       "      <td>0.85</td>\n",
       "      <td>0.81</td>\n",
       "    </tr>\n",
       "    <tr>\n",
       "      <th>13014</th>\n",
       "      <td>416</td>\n",
       "      <td>178</td>\n",
       "      <td>12</td>\n",
       "      <td>0.70</td>\n",
       "      <td>0.97</td>\n",
       "      <td>0.81</td>\n",
       "    </tr>\n",
       "    <tr>\n",
       "      <th>13016</th>\n",
       "      <td>0</td>\n",
       "      <td>8</td>\n",
       "      <td>0</td>\n",
       "      <td>0.00</td>\n",
       "      <td>1.00</td>\n",
       "      <td>0.00</td>\n",
       "    </tr>\n",
       "    <tr>\n",
       "      <th>13017</th>\n",
       "      <td>42</td>\n",
       "      <td>85</td>\n",
       "      <td>9</td>\n",
       "      <td>0.33</td>\n",
       "      <td>0.82</td>\n",
       "      <td>0.47</td>\n",
       "    </tr>\n",
       "    <tr>\n",
       "      <th>13002</th>\n",
       "      <td>0</td>\n",
       "      <td>32</td>\n",
       "      <td>0</td>\n",
       "      <td>0.00</td>\n",
       "      <td>1.00</td>\n",
       "      <td>0.00</td>\n",
       "    </tr>\n",
       "    <tr>\n",
       "      <th>11004</th>\n",
       "      <td>71</td>\n",
       "      <td>58</td>\n",
       "      <td>8</td>\n",
       "      <td>0.55</td>\n",
       "      <td>0.90</td>\n",
       "      <td>0.68</td>\n",
       "    </tr>\n",
       "    <tr>\n",
       "      <th>11068</th>\n",
       "      <td>0</td>\n",
       "      <td>4</td>\n",
       "      <td>2</td>\n",
       "      <td>0.00</td>\n",
       "      <td>0.00</td>\n",
       "      <td>0.00</td>\n",
       "    </tr>\n",
       "    <tr>\n",
       "      <th>12023</th>\n",
       "      <td>17</td>\n",
       "      <td>81</td>\n",
       "      <td>5</td>\n",
       "      <td>0.17</td>\n",
       "      <td>0.77</td>\n",
       "      <td>0.28</td>\n",
       "    </tr>\n",
       "    <tr>\n",
       "      <th>SUM</th>\n",
       "      <td>1111</td>\n",
       "      <td>1069</td>\n",
       "      <td>161</td>\n",
       "      <td>0.51</td>\n",
       "      <td>0.87</td>\n",
       "      <td>0.64</td>\n",
       "    </tr>\n",
       "  </tbody>\n",
       "</table>\n",
       "</div>"
      ],
      "text/plain": [
       "       True Positive  False Positive  False Negative  Precision / PPV  \\\n",
       "ID                                                                      \n",
       "11005              0               2               0             0.00   \n",
       "11014              0               1               3             0.00   \n",
       "11041            257             303               2             0.46   \n",
       "11047              2               6              18             0.25   \n",
       "11062              1               5              25             0.17   \n",
       "11065              0               0               2             1.00   \n",
       "11074              2               8               5             0.20   \n",
       "11083              3              24              17             0.11   \n",
       "11085              0              28               4             0.00   \n",
       "11103             19              45              11             0.30   \n",
       "11109              0               6               3             0.00   \n",
       "12006            168             115               3             0.59   \n",
       "12014              3              24              12             0.11   \n",
       "13004             46              37               9             0.55   \n",
       "13008             64              19              11             0.77   \n",
       "13014            416             178              12             0.70   \n",
       "13016              0               8               0             0.00   \n",
       "13017             42              85               9             0.33   \n",
       "13002              0              32               0             0.00   \n",
       "11004             71              58               8             0.55   \n",
       "11068              0               4               2             0.00   \n",
       "12023             17              81               5             0.17   \n",
       "SUM             1111            1069             161             0.51   \n",
       "\n",
       "       Recall / Sensitivity  F1 Score  \n",
       "ID                                     \n",
       "11005                  1.00      0.00  \n",
       "11014                  0.00      0.00  \n",
       "11041                  0.99      0.63  \n",
       "11047                  0.10      0.14  \n",
       "11062                  0.04      0.06  \n",
       "11065                  0.00      0.00  \n",
       "11074                  0.29      0.24  \n",
       "11083                  0.15      0.13  \n",
       "11085                  0.00      0.00  \n",
       "11103                  0.63      0.40  \n",
       "11109                  0.00      0.00  \n",
       "12006                  0.98      0.74  \n",
       "12014                  0.20      0.14  \n",
       "13004                  0.84      0.67  \n",
       "13008                  0.85      0.81  \n",
       "13014                  0.97      0.81  \n",
       "13016                  1.00      0.00  \n",
       "13017                  0.82      0.47  \n",
       "13002                  1.00      0.00  \n",
       "11004                  0.90      0.68  \n",
       "11068                  0.00      0.00  \n",
       "12023                  0.77      0.28  \n",
       "SUM                    0.87      0.64  "
      ]
     },
     "execution_count": 10,
     "metadata": {},
     "output_type": "execute_result"
    }
   ],
   "source": [
    "results_df.set_index('ID')"
   ]
  },
  {
   "cell_type": "code",
   "execution_count": 11,
   "id": "8107682f-e9a1-4bb0-9810-0c5cb4095ca8",
   "metadata": {},
   "outputs": [],
   "source": [
    "results_df.set_index('ID').to_csv('./results_diary.csv')"
   ]
  },
  {
   "cell_type": "markdown",
   "id": "1bcda776-863b-4281-a54f-836ac085a4c0",
   "metadata": {},
   "source": [
    "## Regression"
   ]
  },
  {
   "cell_type": "code",
   "execution_count": 12,
   "id": "1fecca10-9692-45ca-9c5f-63b5918712ca",
   "metadata": {},
   "outputs": [],
   "source": [
    "functional_data = pd.merge(results_df, sa_data[['ID', 'bi_postop_3', 'charmi_postop_3']], on='ID', how='left')\n",
    "functional_data = functional_data.dropna()\n",
    "functional_data.loc[functional_data['charmi_postop_3'] == 11, 'charmi_postop_3'] = np.nan"
   ]
  },
  {
   "cell_type": "markdown",
   "id": "c0dca8c7-c64e-415b-90e6-cf07651f44c3",
   "metadata": {},
   "source": [
    "### Spearman"
   ]
  },
  {
   "cell_type": "markdown",
   "id": "51675610-6afa-4e06-bf1f-554aa8613ce2",
   "metadata": {},
   "source": [
    "#### Walking Bouts"
   ]
  },
  {
   "cell_type": "code",
   "execution_count": 13,
   "id": "e4acd5ee-27d8-476c-ba33-9bd261f8c9b1",
   "metadata": {},
   "outputs": [
    {
     "name": "stdout",
     "output_type": "stream",
     "text": [
      "statistic: 0.836713187537537\n",
      "p-value: 6.512295354780212e-07\n"
     ]
    }
   ],
   "source": [
    "x_wb = results_df[['True Positive', 'False Positive']].sum(axis=1).values\n",
    "y_wb = results_df['F1 Score'].values\n",
    "statistic, p_value = spearmanr(x_wb, y_wb)\n",
    "\n",
    "print(\"statistic:\", statistic)\n",
    "print(\"p-value:\", p_value)"
   ]
  },
  {
   "cell_type": "markdown",
   "id": "1137d9a4-f7b2-45ab-a4c1-1e6a4af650f0",
   "metadata": {},
   "source": [
    "#### CHARMI"
   ]
  },
  {
   "cell_type": "code",
   "execution_count": 14,
   "id": "e3f3ae5c-cc12-4e88-be3a-d2bf3e05ff2a",
   "metadata": {},
   "outputs": [
    {
     "name": "stdout",
     "output_type": "stream",
     "text": [
      "statistic: 0.8049350406379658\n",
      "p-value: 1.8669285524795624e-05\n"
     ]
    }
   ],
   "source": [
    "x_charmi = functional_data.dropna()['charmi_postop_3'].values\n",
    "y_charmi = functional_data.dropna()['F1 Score'].values\n",
    "statistic, p_value = spearmanr(x_charmi, y_charmi)\n",
    "\n",
    "print(\"statistic:\", statistic)\n",
    "print(\"p-value:\", p_value)"
   ]
  },
  {
   "cell_type": "markdown",
   "id": "789222bf-eef3-49e7-b059-3bde35d0eb19",
   "metadata": {},
   "source": [
    "#### Barthel Index"
   ]
  },
  {
   "cell_type": "code",
   "execution_count": 15,
   "id": "580eccbe-5305-4fbc-9b09-968ed12802dd",
   "metadata": {},
   "outputs": [
    {
     "name": "stdout",
     "output_type": "stream",
     "text": [
      "statistic: 0.8005474360893678\n",
      "p-value: 1.3101536138120784e-05\n"
     ]
    }
   ],
   "source": [
    "x_bi = functional_data['bi_postop_3'].values\n",
    "y_bi = functional_data['F1 Score'].values\n",
    "statistic, p_value = spearmanr(x_bi, y_bi)\n",
    "\n",
    "print(\"statistic:\", statistic)\n",
    "print(\"p-value:\", p_value)"
   ]
  },
  {
   "cell_type": "markdown",
   "id": "b880782d-084c-4370-8a90-eb164d3d5d1d",
   "metadata": {},
   "source": [
    "### Figure"
   ]
  },
  {
   "cell_type": "code",
   "execution_count": 16,
   "id": "5325edfd-5097-4eaa-854b-78bd42923fec",
   "metadata": {},
   "outputs": [
    {
     "name": "stdout",
     "output_type": "stream",
     "text": [
      "7.4586108829849e-07\n",
      "2.92462754422328e-05\n",
      "1.3723399120914972e-05\n"
     ]
    },
    {
     "data": {
      "image/png": "[encoded data removed]",
      "text/plain": [
       "<Figure size 1500x500 with 3 Axes>"
      ]
     },
     "metadata": {},
     "output_type": "display_data"
    }
   ],
   "source": [
    "plt.style.use('ggplot')\n",
    "fig, axes = plt.subplots(1, 3, figsize=(15, 5), sharey=True)\n",
    "data = [\n",
    "    (np.log10(x_wb+1), y_wb, \"log$_{10}$(Walking Bouts), n\"),\n",
    "    (x_charmi, y_charmi, \"CHARMI, score\"),\n",
    "    (x_bi, y_bi, \"Barthel Index, score\")\n",
    "]\n",
    "\n",
    "for i, (x, y, xlabel) in enumerate(data):\n",
    "    ax = axes[i]\n",
    "    ax.scatter(x, y, color='#009AD4', s=40, marker='o', label='Data')\n",
    "    slope, intercept, r_value, p_value, _ = linregress(x, y)\n",
    "    print(p_value)\n",
    "    line = slope * x + intercept\n",
    "    ax.plot([min(x), max(x)], [min(line), max(line)], color='black', linestyle='--', label=f'Regression \\nr = {r_value:.2f}')\n",
    "    ax.set_xlabel(xlabel, fontsize=10)\n",
    "    ax.legend(loc='upper left')\n",
    "\n",
    "axes[0].set_ylabel('F1 Score', fontsize=10)\n",
    "axes[0].set_yticks(np.arange(0, 1, 0.2).round(1))\n",
    "\n",
    "plt.tight_layout()\n",
    "plt.savefig('./diary_regression.png', dpi=400, bbox_inches='tight')\n",
    "plt.show();"
   ]
  },
  {
   "cell_type": "code",
   "execution_count": null,
   "id": "79c9c2f7-03f8-4cb9-b49d-1788d6f19d0f",
   "metadata": {},
   "outputs": [],
   "source": []
  }
 ],
 "metadata": {
  "kernelspec": {
   "display_name": "Python 3 (ipykernel)",
   "language": "python",
   "name": "python3"
  },
  "language_info": {
   "codemirror_mode": {
    "name": "ipython",
    "version": 3
   },
   "file_extension": ".py",
   "mimetype": "text/x-python",
   "name": "python",
   "nbconvert_exporter": "python",
   "pygments_lexer": "ipython3",
   "version": "3.12.2"
  }
 },
 "nbformat": 4,
 "nbformat_minor": 5
}
